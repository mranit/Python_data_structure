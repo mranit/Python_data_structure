{
  "nbformat": 4,
  "nbformat_minor": 0,
  "metadata": {
    "colab": {
      "provenance": []
    },
    "kernelspec": {
      "name": "python3",
      "display_name": "Python 3"
    },
    "language_info": {
      "name": "python"
    }
  },
  "cells": [
    {
      "cell_type": "code",
      "source": [
        "#Matplotlib Assignments"
      ],
      "metadata": {
        "id": "xRPxRvGVyAwg"
      },
      "execution_count": 1,
      "outputs": []
    },
    {
      "cell_type": "code",
      "execution_count": null,
      "metadata": {
        "id": "FOw5F1RPqi4w"
      },
      "outputs": [],
      "source": [
        "#1. Create a scatter plot using Matplotlib to visualize the relationship between two arrays, x and y for the given data.\n",
        "#x = [1, 2, 3, 4, 5, 6, 7, 8, 9, 10]\n",
        "#y = [2, 4, 5, 7, 6, 8, 9, 10, 12, 13]\n",
        "import matplotlib.pyplot as plt\n",
        "x = [1, 2, 3, 4, 5, 6, 7, 8, 9, 10]\n",
        "y= [2, 4, 5, 7, 6, 8, 9, 10, 12, 13]\n",
        "plt.scatter(x,y)\n",
        "plt.xlabel('x')\n",
        "plt.ylabel('y')\n",
        "\n",
        "\n",
        "\n",
        "\n"
      ]
    },
    {
      "cell_type": "code",
      "source": [
        "#Generate a line plot to visualize the trend of values for the given data.\n",
        "#data = np.array([3, 7, 9, 15, 22, 29, 35])\n",
        "\n",
        "import numpy as np\n",
        "# Data for the line plot\n",
        "data = np.array([3, 7, 9, 15, 22, 29, 35])\n",
        "x = np.arange(1, len(data) + 1)  # Generate x values based on the length of the data\n",
        "\n",
        "# Generate line plot\n",
        "plt.figure(figsize=(8, 6))\n",
        "plt.plot(x, data, color='purple', marker='o', linestyle='-', label='Trend Line')\n",
        "plt.title('Line Plot of Data', fontsize=14)\n",
        "plt.xlabel('Index', fontsize=12)\n",
        "plt.ylabel('Value', fontsize=12)\n",
        "plt.grid(True, linestyle='--', alpha=0.6)\n",
        "plt.legend()\n",
        "plt.show()\n"
      ],
      "metadata": {
        "id": "AjG5fbAIsPqE"
      },
      "execution_count": null,
      "outputs": []
    },
    {
      "cell_type": "code",
      "source": [
        "# Display a bar chart to represent the frequency of each item in the given array categories.categories = ['A', 'B', 'C', 'D', 'E'] values = [25, 40, 30, 35, 20]\n",
        "categories = ['A', 'B', 'C', 'D', 'E']\n",
        "values = [25, 40, 30, 35, 20]\n",
        "plt.bar(categories,values,color='skyblue',edgecolor='black')\n",
        "plt.xlabel('categories')\n",
        "plt.ylabel('values')\n",
        "plt.title('Bar Plot')\n",
        "plt.show()\n"
      ],
      "metadata": {
        "id": "FyDamb4jtbiB"
      },
      "execution_count": null,
      "outputs": []
    },
    {
      "cell_type": "code",
      "source": [
        "#Create a histogram to visualize the distribution of values in the array data. data = np.random.normal(0, 1, 1000)\n",
        "data = np.random.normal(0, 1, 1000)\n",
        "plt.hist(data,bins=30,color='green',edgecolor='black')\n",
        "plt.xlabel('Values')\n",
        "plt.ylabel('Frequency')\n",
        "plt.title('Histogram of Data')\n",
        "plt.show()"
      ],
      "metadata": {
        "id": "_8sWPrOIu1GU"
      },
      "execution_count": null,
      "outputs": []
    },
    {
      "cell_type": "code",
      "source": [
        "# Show a pie chart to represent the percentage distribution of different sections in the array `sections`.\n",
        "sections = ['Section A', 'Section B', 'Section C', 'Section D']\n",
        "sizes = [25, 30, 15, 30]\n",
        "plt.pie(sizes,labels=sections,colors=['red','green','skyblue','pink'])\n",
        "plt.title('Pie Chart')\n",
        "plt.show()\n"
      ],
      "metadata": {
        "id": "gUQben_NwVzz"
      },
      "execution_count": null,
      "outputs": []
    },
    {
      "cell_type": "code",
      "source": [
        "#Seaborn assignments"
      ],
      "metadata": {
        "id": "rK24miqux60S"
      },
      "execution_count": 7,
      "outputs": []
    },
    {
      "cell_type": "code",
      "source": [
        "#Create a scatter plot to visualize the relationship between two variables, by generating a synthetic dataset.\n",
        "import seaborn as sns\n",
        "import pandas as pd\n",
        "import numpy as np\n",
        "\n",
        "data = pd.DataFrame({\n",
        "    'x': np.random.rand(100),\n",
        "    'y': np.random.rand(100)\n",
        "})\n",
        "sns.scatterplot(x='x', y='y', data=data)\n",
        "plt.title('Scatter Plot of Synthetic Data')\n",
        "plt.show()\n"
      ],
      "metadata": {
        "id": "6eN-DVy5xiyY"
      },
      "execution_count": null,
      "outputs": []
    },
    {
      "cell_type": "code",
      "source": [
        "# Generate a dataset of random numbers. Visualize the distribution of a numerical variable.\n",
        "data = np.random.normal(loc=0, scale=1, size=1000)\n",
        "sns.histplot(data, kde=True)\n",
        "plt.title('Distribution of Random Numbers')\n",
        "plt.xlabel('Value')\n",
        "plt.ylabel('Frequency')\n",
        "plt.show()\n",
        "\n"
      ],
      "metadata": {
        "id": "VCbJIPteyvtf"
      },
      "execution_count": null,
      "outputs": []
    },
    {
      "cell_type": "code",
      "source": [
        "#Create a dataset representing categories and their corresponding values. Compare different categories based on numerical values.\n",
        "data = {'Category': ['A', 'B', 'C', 'D', 'E'],\n",
        "        'Value': [25, 40, 30, 35, 20]}\n",
        "\n",
        "df = pd.DataFrame(data)\n",
        "sns.barplot(x='Category', y='Value', data=df)\n",
        "plt.title('Comparison of Categories')\n",
        "plt.xlabel('Category')\n",
        "plt.ylabel('Value')\n",
        "plt.show()"
      ],
      "metadata": {
        "id": "mdOdBKc2zgjA"
      },
      "execution_count": null,
      "outputs": []
    },
    {
      "cell_type": "code",
      "source": [
        "#Generate a dataset with categories and numerical values. Visualize the distribution of a numerical variable across different categories.\n",
        "data = {'Category': ['A', 'B', 'C', 'D', 'E'],\n",
        "        'Value': [25, 40, 30, 35, 20]}\n",
        "\n",
        "df = pd.DataFrame(data)\n",
        "sns.boxplot(x='Category', y='Value', data=df)\n",
        "plt.title('Distribution of Numerical Variable Across Categories')\n",
        "plt.xlabel('Category')\n",
        "plt.ylabel('Value')\n",
        "plt.show()\n"
      ],
      "metadata": {
        "id": "e6KtJTSIz8c1"
      },
      "execution_count": null,
      "outputs": []
    },
    {
      "cell_type": "code",
      "source": [
        "#Generate a synthetic dataset with correlated features. Visualize the correlation matrix of a dataset using a heatmap\n",
        "num_points = 100\n",
        "\n",
        "\n",
        "x1 = np.random.rand(num_points)\n",
        "x2 = 0.5 * x1 + 0.5 * np.random.rand(num_points)\n",
        "data = pd.DataFrame({'x1': x1, 'x2': x2})\n",
        "\n",
        "correlation_matrix = data.corr()\n",
        "sns.heatmap(correlation_matrix, annot=True, cmap='coolwarm')\n",
        "plt.title('Correlation Matrix')\n",
        "plt.show()\n",
        "\n",
        "\n"
      ],
      "metadata": {
        "id": "7yEOmut50ZcB"
      },
      "execution_count": null,
      "outputs": []
    },
    {
      "cell_type": "code",
      "source": [
        "# Using the given dataset, to generate a 3D scatter plot to visualize the distribution of data points in a threedimensional space.\n",
        "from mpl_toolkits.mplot3d import Axes3D\n",
        "np.random.seed(30)\n",
        "data = {\n",
        "    'X': np.random.uniform(-10, 10, 300),\n",
        "    'Y': np.random.uniform(-10, 10, 300),\n",
        "    'Z': np.random.uniform(-10, 10, 300)\n",
        "}\n",
        "df = pd.DataFrame(data)\n",
        "\n",
        "# Create a figure and an axes object for the 3D plot\n",
        "fig = plt.figure()\n",
        "ax = fig.add_subplot(111, projection='3d')\n",
        "\n",
        "# Scatter plot\n",
        "ax.scatter(df['X'], df['Y'], df['Z'], c='blue', marker='o')\n",
        "\n",
        "# Set labels for the axes\n",
        "ax.set_xlabel('X')\n",
        "ax.set_ylabel('Y')\n",
        "ax.set_zlabel('Z')\n",
        "\n",
        "# Set the title of the plot\n",
        "ax.set_title('3D Scatter Plot')\n",
        "\n",
        "# Display the plot\n",
        "plt.show()"
      ],
      "metadata": {
        "id": "UUpqsovg02m7"
      },
      "execution_count": null,
      "outputs": []
    },
    {
      "cell_type": "code",
      "source": [
        "# Using the Student Grades, create a violin plot to display the distribution of scores across different grade categories.\n",
        "np.random.seed(15)\n",
        "data = {\n",
        "    'Grade': np.random.choice(['A', 'B', 'C', 'D', 'F'], 200),\n",
        "    'Score': np.random.randint(50, 100, 200)\n",
        "}\n",
        "df = pd.DataFrame(data)\n",
        "sns.violinplot(x='Grade',y='Score',data=df)\n",
        "plt.title('Distribution of Scores across different grade categories')\n",
        "plt.xlabel('Grade')\n",
        "plt.ylabel('Score')\n",
        "plt.show()\n",
        "\n",
        "#Using the sales data, generate a heatmap to visualize the variation in sales across different months and days.\n",
        "\n",
        "np.random.seed(20)\n",
        "data = {\n",
        "    'Month': np.random.choice(['Jan', 'Feb', 'Mar', 'Apr', 'May'], 100),\n",
        "    'Day': np.random.choice(range(1, 31), 100),\n",
        "    'Sales': np.random.randint(1000, 5000, 100)\n",
        "}\n",
        "df = pd.DataFrame(data)\n",
        "sales_matrix = df.pivot_table(values='Sales', index='Month', columns='Day')\n",
        "sns.heatmap(sales_matrix, cmap='coolwarm')\n",
        "plt.title('Variation in Sales across different months and days')\n",
        "plt.xlabel('Day')\n",
        "plt.ylabel('Month')\n",
        "plt.show()\n"
      ],
      "metadata": {
        "id": "RbVXUlV22AZF"
      },
      "execution_count": null,
      "outputs": []
    },
    {
      "cell_type": "code",
      "source": [
        "#Using the sales data, generate a heatmap to visualize the variation in sales across different months and days.\n",
        "np.random.seed(20)\n",
        "data = {\n",
        "    'Month': np.random.choice(['Jan', 'Feb', 'Mar', 'Apr', 'May'], 100),\n",
        "    'Day': np.random.choice(range(1, 31), 100),\n",
        "    'Sales': np.random.randint(1000, 5000, 100)\n",
        "}\n",
        "df = pd.DataFrame(data)\n",
        "sales_matrix=df.pivot_table(values='Sales',index='Month',columns='Day')\n",
        "sns.heatmap(sales_matrix,cmap='coolwarm')\n",
        "plt.title('Variation in Sales across different months and days')\n",
        "plt.xlabel('Day')\n",
        "plt.ylabel('Month')\n",
        "plt.show()\n"
      ],
      "metadata": {
        "id": "L5lpOx_BCjYc"
      },
      "execution_count": null,
      "outputs": []
    },
    {
      "cell_type": "code",
      "source": [
        "#. Using the given x and y data, generate a 3D surface plot to visualize the function z=sin(x^2+y^2)^1/2\n",
        "x = np.linspace(-5, 5, 100)\n",
        "y = np.linspace(-5, 5, 100)\n",
        "x, y = np.meshgrid(x, y)\n",
        "z = np.sin(np.sqrt(x**2 + y**2))\n",
        "data = {\n",
        "    'X': x.flatten(),\n",
        "    'Y': y.flatten(),\n",
        "    'Z': z.flatten()\n",
        "}\n",
        "df = pd.DataFrame(data)\n",
        "fig = plt.figure()\n",
        "ax = fig.add_subplot(111, projection='3d')\n",
        "ax.plot_trisurf(df['X'], df['Y'], df['Z'], cmap='viridis')\n",
        "ax.set_xlabel('X')\n",
        "ax.set_ylabel('Y')\n",
        "ax.set_zlabel('Z')\n",
        "ax.set_title('3D Surface Plot')\n",
        "plt.show()"
      ],
      "metadata": {
        "id": "fgBZDw0SeHpE"
      },
      "execution_count": null,
      "outputs": []
    },
    {
      "cell_type": "code",
      "source": [
        "# Using the given dataset, create a bubble chart to represent each country's population (y-axis), GDP (xaxis), and bubble size proportional to the population.\n",
        "np.random.seed(25)\n",
        "data = {\n",
        "    'Country': ['USA', 'Canada', 'UK',\n",
        "'Germany', 'France'],\n",
        "    'Population':\n",
        "np.random.randint(100, 1000, 5),\n",
        "    'GDP': np.random.randint(500, 2000,\n",
        "5)\n",
        "}\n",
        "df = pd.DataFrame(data)\n",
        "plt.figure(figsize=(10, 6))\n",
        "# Create the bubble chart\n",
        "plt.scatter(df['GDP'], df['Population'], s=df['Population'], alpha=0.5)\n",
        "# Set plot title and labels\n",
        "plt.title('Population vs GDP')\n",
        "plt.xlabel('GDP')\n",
        "plt.ylabel('Population')\n",
        "\n",
        "# Add country labels\n",
        "for i, row in df.iterrows():\n",
        "    plt.annotate(row['Country'], (row['GDP'], row['Population']))\n",
        "\n",
        "# Display the plot\n",
        "plt.show()\n",
        "\n"
      ],
      "metadata": {
        "id": "uN2uK131euH6"
      },
      "execution_count": null,
      "outputs": []
    },
    {
      "cell_type": "code",
      "source": [
        "#.Create a Bokeh plot displaying a sine wave. Set x-values from 0 to 10 and y-values as the sine of x\n",
        "from bokeh.plotting import figure, show\n",
        "import numpy as np\n",
        "\n",
        "# Generate x and y values\n",
        "x = np.linspace(0, 10, 500)\n",
        "y = np.sin(x)\n",
        "\n",
        "# Create a Bokeh figure\n",
        "p = figure(title=\"Sine Wave\", x_axis_label=\"x\", y_axis_label=\"sin(x)\", width=800, height=400)\n",
        "\n",
        "# Add a line renderer for the sine wave\n",
        "p.line(x, y, legend_label=\"sin(x)\", line_width=2, color=\"blue\")\n",
        "\n",
        "# Show the plot\n",
        "show(p)\n"
      ],
      "metadata": {
        "id": "BEqd8Rmxfvu1"
      },
      "execution_count": 22,
      "outputs": []
    },
    {
      "cell_type": "code",
      "source": [
        "#Create a Bokeh scatter plot using randomly generated x and y values. Use different sizes and colors for the\n",
        "#markers based on the 'sizes' and 'colors' columns.\n",
        "from bokeh.models import ColumnDataSource\n",
        "\n",
        "# Generate random data\n",
        "np.random.seed(42)  # For reproducibility\n",
        "data = {\n",
        "    'x': np.random.rand(100),\n",
        "    'y': np.random.rand(100),\n",
        "    'sizes': np.random.randint(5, 20, 100),\n",
        "    'colors': np.random.choice(['red', 'green', 'blue'], 100)\n",
        "}\n",
        "df = pd.DataFrame(data)\n",
        "\n",
        "# Create a ColumnDataSource\n",
        "source = ColumnDataSource(df)\n",
        "\n",
        "# Create a Bokeh figure\n",
        "p = figure(title=\"Scatter Plot with Varying Sizes and Colors\")\n",
        "\n",
        "# Plot the scatter plot\n",
        "p.scatter(x='x', y='y', size='sizes', color='colors', source=source)\n",
        "\n",
        "# Display the plot\n",
        "show(p)\n"
      ],
      "metadata": {
        "id": "b6Z4zhZ_gg9V"
      },
      "execution_count": 23,
      "outputs": []
    },
    {
      "cell_type": "code",
      "source": [
        "# Generate a Bokeh bar chart representing the counts of different fruits using the following dataset.\n",
        "fruits = ['Apples', 'Oranges', 'Bananas', 'Pears']\n",
        "counts = [20, 25, 30, 35]\n",
        "p = figure(x_range=fruits,title=\"Fruit Counts\")\n",
        "\n",
        "# Create the bar chart\n",
        "p.vbar(x=fruits, top=counts, width=0.9)\n",
        "\n",
        "# Customize the plot\n",
        "p.xgrid.grid_line_color = None\n",
        "p.y_range.start = 0\n",
        "\n",
        "# Display the plot\n",
        "show(p)"
      ],
      "metadata": {
        "id": "hDEldXJghH7R"
      },
      "execution_count": 25,
      "outputs": []
    },
    {
      "cell_type": "code",
      "source": [
        "# Create a Bokeh histogram to visualize the distribution of the given data.\n",
        "data_hist = np.random.randn(1000)\n",
        "hist, edges = np.histogram(data_hist, bins=30)\n",
        "p = figure(title=\"Histogram\", x_axis_label=\"Value\", y_axis_label=\"Frequency\")\n",
        "\n",
        "# Create the histogram\n",
        "p.quad(top=hist, bottom=0, left=edges[:-1], right=edges[1:],\n",
        "       fill_color=\"navy\", line_color=\"white\", alpha=0.5)\n",
        "\n",
        "# Display the plot\n",
        "show(p)"
      ],
      "metadata": {
        "id": "s3KdjCQ2htMA"
      },
      "execution_count": 26,
      "outputs": []
    },
    {
      "cell_type": "code",
      "source": [
        "#Create a Bokeh heatmap using the provided dataset.\n",
        "from bokeh.models import LinearColorMapper, ColorBar\n",
        "data_heatmap = np.random.rand(10, 10)\n",
        "x = np.linspace(0, 1, 10)\n",
        "y = np.linspace(0, 1, 10)\n",
        "xx, yy = np.meshgrid(x, y)\n",
        "color_mapper = LinearColorMapper(palette=\"Viridis256\", low=data_heatmap.min(), high=data_heatmap.max())\n",
        "\n",
        "# Create a figure\n",
        "p = figure(title=\"Heatmap\", x_axis_label=\"x\", y_axis_label=\"y\",\n",
        "           x_range=(0, 1), y_range=(0, 1))\n",
        "\n",
        "# Create the heatmap\n",
        "p.image(image=[data_heatmap], x=0, y=0, dw=1, dh=1, color_mapper=color_mapper)\n"
      ],
      "metadata": {
        "id": "SkmtRQUniJjK"
      },
      "execution_count": null,
      "outputs": []
    },
    {
      "cell_type": "markdown",
      "source": [],
      "metadata": {
        "id": "R0fg6HW7iGvC"
      }
    }
  ]
}