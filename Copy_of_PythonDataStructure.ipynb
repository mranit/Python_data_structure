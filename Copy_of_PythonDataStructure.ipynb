{
  "nbformat": 4,
  "nbformat_minor": 0,
  "metadata": {
    "colab": {
      "provenance": []
    },
    "kernelspec": {
      "name": "python3",
      "display_name": "Python 3"
    },
    "language_info": {
      "name": "python"
    }
  },
  "cells": [
    {
      "cell_type": "code",
      "execution_count": null,
      "metadata": {
        "colab": {
          "base_uri": "https://localhost:8080/"
        },
        "id": "PSbW5cKKIjfK",
        "outputId": "62d937d1-7004-4130-8ca4-d9bb5168bbd6"
      },
      "outputs": [
        {
          "output_type": "stream",
          "name": "stdout",
          "text": [
            "Reversed string:olleh\n"
          ]
        }
      ],
      "source": [
        "#\"Write a code to reverse a string\n",
        "def reverse_string(s):\n",
        "  return s[::-1]\n",
        "string = \"hello\"\n",
        "print(f\"Reversed string:{reverse_string(string)}\")"
      ]
    },
    {
      "cell_type": "code",
      "source": [
        "#Write a code to count the number of vowels in a string\n",
        "def count_vowels(s):\n",
        "  vowels = \"aeiouAEIOU\"\n",
        "  count = 0\n",
        "  for char in s:\n",
        "    if char in vowels:\n",
        "      count += 1\n",
        "  return count\n",
        "  string = \"hello world\"\n",
        "  print(f\"Number of vowels:{count_vowels(string)}\")"
      ],
      "metadata": {
        "id": "dfV7NHm7JXOG"
      },
      "execution_count": null,
      "outputs": []
    },
    {
      "cell_type": "code",
      "source": [
        "#Write a code to check if a given string is a palindrome or not\n",
        "def is_palindrome(s):\n",
        "  return s == s[::-1]\n",
        "string = \"madam\"\n",
        "if is_palindrome(string):\n",
        "  print(f\"{string} is a palindrome\")\n",
        "else:\n",
        "  print(f\"{string} is not a palindrome\")"
      ],
      "metadata": {
        "colab": {
          "base_uri": "https://localhost:8080/"
        },
        "id": "13wAuLJpJ_me",
        "outputId": "30183d9b-4591-40bc-ab79-c79df92c15c5"
      },
      "execution_count": null,
      "outputs": [
        {
          "output_type": "stream",
          "name": "stdout",
          "text": [
            "madam is a palindrome\n"
          ]
        }
      ]
    },
    {
      "source": [
        "#Write a code to check if two given strings are anagrams of each other\n",
        "def is_anagram(s1, s2):\n",
        "  return sorted(s1) == sorted(s2)\n",
        "\n",
        "string1 = \"listen\"\n",
        "string2 = \"silent\"\n",
        "\n",
        "if is_anagram(string1, string2):\n",
        "  print(f\"{string1} and {string2} are anagrams\")"
      ],
      "cell_type": "code",
      "metadata": {
        "colab": {
          "base_uri": "https://localhost:8080/"
        },
        "id": "nSC144d1LGVl",
        "outputId": "409add9c-462e-4222-a85b-b81723078ba8"
      },
      "execution_count": null,
      "outputs": [
        {
          "output_type": "stream",
          "name": "stdout",
          "text": [
            "listen and silent are anagrams\n"
          ]
        }
      ]
    },
    {
      "cell_type": "code",
      "source": [
        "#Write a code to find all occurrences of a given substring within another string\n",
        "def find_all_occurrences(main_string, substring):\n",
        "    occurrences = []\n",
        "    start = 0\n",
        "    while start < len(main_string):\n",
        "        start = main_string.find(substring, start)\n",
        "        if start == -1:\n",
        "            break\n",
        "        occurrences.append(start)\n",
        "        start += 1  # Move to the next character to find overlapping occurrences\n",
        "    return occurrences\n",
        "\n",
        "# Example usage\n",
        "main_string = \"ababcabcabc\"\n",
        "substring = \"abc\"\n",
        "positions = find_all_occurrences(main_string, substring)\n",
        "print(f\"Occurrences of '{substring}' in '{main_string}': {positions}\")\n"
      ],
      "metadata": {
        "colab": {
          "base_uri": "https://localhost:8080/"
        },
        "id": "YJZEqf9RLV54",
        "outputId": "e7e39b0b-11d3-4953-dfbe-7a054a9fa90c"
      },
      "execution_count": null,
      "outputs": [
        {
          "output_type": "stream",
          "name": "stdout",
          "text": [
            "Occurrences of 'abc' in 'ababcabcabc': [2, 5, 8]\n"
          ]
        }
      ]
    },
    {
      "cell_type": "code",
      "source": [
        "# Write a code to perform basic string compression using the counts of repeated characters\n",
        "def compress_string(s):\n",
        "    if not s:\n",
        "        return \"\"\n",
        "\n",
        "    compressed = []\n",
        "    count = 1\n",
        "\n",
        "    for i in range(1, len(s)):\n",
        "        if s[i] == s[i - 1]:\n",
        "            count += 1\n",
        "        else:\n",
        "            compressed.append(s[i - 1] + str(count))\n",
        "            count = 1\n",
        "\n",
        "    # Add the last character and its count\n",
        "    compressed.append(s[-1] + str(count))\n",
        "\n",
        "    # Join the compressed parts\n",
        "    compressed_string = ''.join(compressed)\n",
        "\n",
        "    # Return the original string if compression is not effective\n",
        "    return compressed_string if len(compressed_string) < len(s) else s\n",
        "\n",
        "# Example usage\n",
        "input_string = \"aabcccccaaa\"\n",
        "compressed_result = compress_string(input_string)\n",
        "print(f\"Compressed string: {compressed_result}\")\n",
        "\n"
      ],
      "metadata": {
        "colab": {
          "base_uri": "https://localhost:8080/"
        },
        "id": "IwniYFCBMnv5",
        "outputId": "48380184-725d-4c32-e43e-43ffc227c081"
      },
      "execution_count": null,
      "outputs": [
        {
          "output_type": "stream",
          "name": "stdout",
          "text": [
            "Compressed string: a2b1c5a3\n"
          ]
        }
      ]
    },
    {
      "cell_type": "code",
      "source": [
        "#Write a code to determine if a string has all unique characters\n",
        "def has_unique_characters(s):\n",
        "    return len(s) == len(set(s))\n",
        "string = \"abcdef\"\n",
        "print(f\"All unique characters? {has_unique_characters(string)}\")\n"
      ],
      "metadata": {
        "colab": {
          "base_uri": "https://localhost:8080/"
        },
        "id": "rM_wIAjZPDlh",
        "outputId": "e45484f6-4c1d-459e-ca90-66bbaea31216"
      },
      "execution_count": null,
      "outputs": [
        {
          "output_type": "stream",
          "name": "stdout",
          "text": [
            "All unique characters? True\n"
          ]
        }
      ]
    },
    {
      "cell_type": "code",
      "source": [
        "# Write a code to convert a given string to uppercase or lowercase\n",
        "def convert_case(s, to_upper=True):\n",
        "    return s.upper() if to_upper else s.lower()\n",
        "string = \"Hello World\"\n",
        "print(f\"Uppercase: {convert_case(string, to_upper=True)}\")\n",
        "print(f\"Lowercase: {convert_case(string, to_upper=False)}\")\n"
      ],
      "metadata": {
        "colab": {
          "base_uri": "https://localhost:8080/"
        },
        "id": "4bUkpqYRPikB",
        "outputId": "f7620eab-6d6a-45d1-8bad-fcc146abfff3"
      },
      "execution_count": null,
      "outputs": [
        {
          "output_type": "stream",
          "name": "stdout",
          "text": [
            "Uppercase: HELLO WORLD\n",
            "Lowercase: hello world\n"
          ]
        }
      ]
    },
    {
      "cell_type": "code",
      "source": [
        "# Write a code to count the number of words in a string\n",
        "def count_words(s):\n",
        "    return len(s.split())\n",
        "\n",
        "# Example usage\n",
        "string = \"This is an example string\"\n",
        "print(f\"Number of words: {count_words(string)}\")\n"
      ],
      "metadata": {
        "colab": {
          "base_uri": "https://localhost:8080/"
        },
        "id": "Z48dFGX5P1O4",
        "outputId": "47d6e6ab-a802-41f9-88ac-c616385b5689"
      },
      "execution_count": null,
      "outputs": [
        {
          "output_type": "stream",
          "name": "stdout",
          "text": [
            "Number of words: 5\n"
          ]
        }
      ]
    },
    {
      "cell_type": "code",
      "source": [
        "#Write a code to concatenate two strings without using the + operator\n",
        "def concatenate_strings(s1, s2):\n",
        "    return \"{}{}\".format(s1, s2)\n",
        "\n",
        "# Example usage\n",
        "string1 = \"Hello\"\n",
        "string2 = \"World\"\n",
        "print(f\"Concatenated string: {concatenate_strings(string1, string2)}\")\n"
      ],
      "metadata": {
        "colab": {
          "base_uri": "https://localhost:8080/"
        },
        "id": "mS0R5UA6P1Sa",
        "outputId": "f13dddfb-ee42-44b4-aa6d-ed15e0b1dc6b"
      },
      "execution_count": null,
      "outputs": [
        {
          "output_type": "stream",
          "name": "stdout",
          "text": [
            "Concatenated string: HelloWorld\n"
          ]
        }
      ]
    },
    {
      "cell_type": "code",
      "source": [
        "#Write a code to remove all occurrences of a specific element from a list\n",
        "def remove_element(lst, element):\n",
        "    return [x for x in lst if x != element]\n",
        "\n",
        "# Example usage\n",
        "lst = [1, 2, 3, 2, 4, 2, 5]\n",
        "element = 2\n",
        "print(f\"List after removal: {remove_element(lst, element)}\")\n"
      ],
      "metadata": {
        "colab": {
          "base_uri": "https://localhost:8080/"
        },
        "id": "ptxJOgNLP1bR",
        "outputId": "a2954482-879e-4fe7-b196-5afeb4980098"
      },
      "execution_count": null,
      "outputs": [
        {
          "output_type": "stream",
          "name": "stdout",
          "text": [
            "List after removal: [1, 3, 4, 5]\n"
          ]
        }
      ]
    },
    {
      "cell_type": "code",
      "source": [
        "#Implement a code to find the second largest number in a given list of integers\n",
        "def second_largest(lst):\n",
        "    unique_sorted = sorted(set(lst), reverse=True)\n",
        "    return unique_sorted[1] if len(unique_sorted) > 1 else None\n",
        "\n",
        "# Example usage\n",
        "lst = [10, 20, 4, 45, 99, 45]\n",
        "print(f\"Second largest number: {second_largest(lst)}\")\n"
      ],
      "metadata": {
        "colab": {
          "base_uri": "https://localhost:8080/"
        },
        "id": "Ogy6dKJqP1iM",
        "outputId": "7468d612-1e12-41e1-e39c-ab9e803ae6cf"
      },
      "execution_count": null,
      "outputs": [
        {
          "output_type": "stream",
          "name": "stdout",
          "text": [
            "Second largest number: 45\n"
          ]
        }
      ]
    },
    {
      "cell_type": "code",
      "source": [
        "# Create a code to count the occurrences of each element in a list and return a dictionary with elements as keys and their counts as values\n",
        "def count_occurrences(lst):\n",
        "    counts = {}\n",
        "    for element in lst:\n",
        "        counts[element] = counts.get(element, 0) + 1\n",
        "    return counts\n",
        "\n",
        "# Example usage\n",
        "lst = [1, 2, 2, 3, 3, 3, 4]\n",
        "print(f\"Occurrences: {count_occurrences(lst)}\")\n"
      ],
      "metadata": {
        "colab": {
          "base_uri": "https://localhost:8080/"
        },
        "id": "B74ugIL0P1l4",
        "outputId": "5d11915f-d193-4bdf-b781-f50b4a2ecfb3"
      },
      "execution_count": null,
      "outputs": [
        {
          "output_type": "stream",
          "name": "stdout",
          "text": [
            "Occurrences: {1: 1, 2: 2, 3: 3, 4: 1}\n"
          ]
        }
      ]
    },
    {
      "cell_type": "code",
      "source": [
        "#Write a code to reverse a list in-place without using any built-in reverse functions\n",
        "def reverse_list(lst):\n",
        "    left, right = 0, len(lst) - 1\n",
        "    while left < right:\n",
        "        lst[left], lst[right] = lst[right], lst[left]\n",
        "        left += 1\n",
        "        right -= 1\n",
        "\n",
        "# Example usage\n",
        "lst = [1, 2, 3, 4, 5]\n",
        "reverse_list(lst)\n",
        "print(f\"Reversed list: {lst}\")\n"
      ],
      "metadata": {
        "colab": {
          "base_uri": "https://localhost:8080/"
        },
        "id": "l5Ti0vFLP1pe",
        "outputId": "916d4eb4-52ad-4855-82ce-87b56a3d3868"
      },
      "execution_count": null,
      "outputs": [
        {
          "output_type": "stream",
          "name": "stdout",
          "text": [
            "Reversed list: [5, 4, 3, 2, 1]\n"
          ]
        }
      ]
    },
    {
      "cell_type": "code",
      "source": [
        "#Implement a code to find and remove duplicates from a list while preserving the original order of elements\n",
        "def remove_duplicates(lst):\n",
        "    seen = set()\n",
        "    return [x for x in lst if not (x in seen or seen.add(x))]\n",
        "\n",
        "# Example usage\n",
        "lst = [1, 2, 2, 3, 4, 4, 5]\n",
        "print(f\"List without duplicates: {remove_duplicates(lst)}\")\n"
      ],
      "metadata": {
        "colab": {
          "base_uri": "https://localhost:8080/"
        },
        "id": "1i3uiRoLP1s1",
        "outputId": "6573f835-f170-4c3e-9e93-978f8f4e2f30"
      },
      "execution_count": null,
      "outputs": [
        {
          "output_type": "stream",
          "name": "stdout",
          "text": [
            "List without duplicates: [1, 2, 3, 4, 5]\n"
          ]
        }
      ]
    },
    {
      "cell_type": "code",
      "source": [
        "#Create a code to check if a given list is sorted (either in ascending or descending order) or not\n",
        "def is_sorted(lst):\n",
        "    if lst == sorted(lst):\n",
        "        return \"Ascending\"\n",
        "    elif lst == sorted(lst, reverse=True):\n",
        "        return \"Descending\"\n",
        "    else:\n",
        "        return \"Not sorted\"\n",
        "\n",
        "# Example usage\n",
        "lst = [1, 2, 3, 4, 5]\n",
        "print(f\"List sorting status: {is_sorted(lst)}\")\n"
      ],
      "metadata": {
        "colab": {
          "base_uri": "https://localhost:8080/"
        },
        "id": "WJ6KequBP176",
        "outputId": "cf8cdd54-ef8c-4101-820c-b1ba1a586236"
      },
      "execution_count": null,
      "outputs": [
        {
          "output_type": "stream",
          "name": "stdout",
          "text": [
            "List sorting status: Ascending\n"
          ]
        }
      ]
    },
    {
      "cell_type": "code",
      "source": [
        "#Write a code to merge two sorted lists into a single sorted list\n",
        "def merge_sorted_lists(lst1, lst2):\n",
        "    merged = []\n",
        "    i, j = 0, 0\n",
        "    while i < len(lst1) and j < len(lst2):\n",
        "        if lst1[i] < lst2[j]:\n",
        "            merged.append(lst1[i])\n",
        "            i += 1\n",
        "        else:\n",
        "            merged.append(lst2[j])\n",
        "            j += 1\n",
        "    merged.extend(lst1[i:])\n",
        "    merged.extend(lst2[j:])\n",
        "    return merged\n",
        "\n",
        "# Example usage\n",
        "lst1 = [1, 3, 5]\n",
        "lst2 = [2, 4, 6]\n",
        "print(f\"Merged list: {merge_sorted_lists(lst1, lst2)}\")\n"
      ],
      "metadata": {
        "colab": {
          "base_uri": "https://localhost:8080/"
        },
        "id": "1yaMkyLWRRZP",
        "outputId": "60b9dfc6-399d-438e-c35e-f01c9b011d70"
      },
      "execution_count": null,
      "outputs": [
        {
          "output_type": "stream",
          "name": "stdout",
          "text": [
            "Merged list: [1, 2, 3, 4, 5, 6]\n"
          ]
        }
      ]
    },
    {
      "cell_type": "code",
      "source": [
        "#Implement a code to find the intersection of two given lists\n",
        "def find_intersection(lst1, lst2):\n",
        "    return list(set(lst1) & set(lst2))\n",
        "\n",
        "# Example usage\n",
        "lst1 = [1, 2, 3, 4]\n",
        "lst2 = [3, 4, 5, 6]\n",
        "print(f\"Intersection: {find_intersection(lst1, lst2)}\")\n"
      ],
      "metadata": {
        "id": "acL8XCFyRRcu"
      },
      "execution_count": null,
      "outputs": []
    },
    {
      "cell_type": "code",
      "source": [
        "#Create a code to find the union of two lists without duplicates\n",
        "def find_union(lst1, lst2):\n",
        "    return list(set(lst1) | set(lst2))\n",
        "\n",
        "# Example usage\n",
        "lst1 = [1, 2, 3]\n",
        "lst2 = [3, 4, 5]\n",
        "print(f\"Union: {find_union(lst1, lst2)}\")\n"
      ],
      "metadata": {
        "id": "lcDWpqZkRRft"
      },
      "execution_count": null,
      "outputs": []
    },
    {
      "cell_type": "code",
      "source": [
        "#Write a code to shuffle a given list randomly without using any built-in shuffle functions\n",
        "import random\n",
        "\n",
        "def shuffle_list(lst):\n",
        "    for i in range(len(lst) - 1, 0, -1):\n",
        "        j = random.randint(0, i)\n",
        "        lst[i], lst[j] = lst[j], lst[i]\n",
        "\n",
        "# Example usage\n",
        "lst = [1, 2, 3, 4, 5]\n",
        "shuffle_list(lst)\n",
        "print(f\"Shuffled list: {lst}\")\n"
      ],
      "metadata": {
        "id": "COxq8DtCRRik"
      },
      "execution_count": null,
      "outputs": []
    },
    {
      "cell_type": "code",
      "source": [
        "#Write a code that takes two tuples as input and returns a new tuple containing elements that are common to both input tuples\n",
        "def common_elements(tuple1, tuple2):\n",
        "    return tuple(set(tuple1) & set(tuple2))\n",
        "\n",
        "# Example usage\n",
        "tuple1 = (1, 2, 3, 4)\n",
        "tuple2 = (3, 4, 5, 6)\n",
        "print(f\"Common elements: {common_elements(tuple1, tuple2)}\")\n"
      ],
      "metadata": {
        "id": "XrmIHrO0RRl3"
      },
      "execution_count": null,
      "outputs": []
    },
    {
      "cell_type": "code",
      "source": [
        "#Create a code that prompts the user to enter two sets of integers separated by commas. Then, print the intersection of these two sets\n",
        "def input_and_find_intersection():\n",
        "    set1 = set(map(int, input(\"Enter the first set of integers, separated by commas: \").split(',')))\n",
        "    set2 = set(map(int, input(\"Enter the second set of integers, separated by commas: \").split(',')))\n",
        "    intersection = set1 & set2\n",
        "    print(f\"Intersection of the sets: {intersection}\")\n",
        "\n",
        "# Example usage\n",
        "# input_and_find_intersection()  # Uncomment to test\n"
      ],
      "metadata": {
        "id": "5NDG3SJTRRoj"
      },
      "execution_count": null,
      "outputs": []
    },
    {
      "cell_type": "code",
      "source": [
        "#Write a code to concatenate two tuples. The function should take two tuples as input and return a new tuple containing elements from both input tuples.\n",
        "def concatenate_tuples(tuple1, tuple2):\n",
        "    return tuple1 + tuple2\n",
        "\n",
        "# Example usage\n",
        "tuple1 = (1, 2, 3)\n",
        "tuple2 = (4, 5, 6)\n",
        "print(f\"Concatenated tuple: {concatenate_tuples(tuple1, tuple2)}\")\n"
      ],
      "metadata": {
        "colab": {
          "base_uri": "https://localhost:8080/"
        },
        "id": "C9NowRH9RRrU",
        "outputId": "2441ddf3-54ff-4f38-aba1-424f8d0ea2c5"
      },
      "execution_count": null,
      "outputs": [
        {
          "output_type": "stream",
          "name": "stdout",
          "text": [
            "Concatenated tuple: (1, 2, 3, 4, 5, 6)\n"
          ]
        }
      ]
    },
    {
      "cell_type": "code",
      "source": [
        "#Develop a code that prompts the user to input two sets of strings. Then, print the elements that are present in the first set but not in the second set\n",
        "def difference_of_sets():\n",
        "    set1 = set(input(\"Enter the first set of strings, separated by commas: \").split(','))\n",
        "    set2 = set(input(\"Enter the second set of strings, separated by commas: \").split(','))\n",
        "    difference = set1 - set2\n",
        "    print(f\"Elements in the first set but not in the second: {difference}\")\n",
        "\n",
        "# Example usage\n",
        "# difference_of_sets()  # Uncomment to test\n"
      ],
      "metadata": {
        "id": "VHdMsx50RRuP"
      },
      "execution_count": null,
      "outputs": []
    },
    {
      "cell_type": "code",
      "source": [
        "#Create a code that takes a tuple and two integers as input. The function should return a new tuple containing elements from the original tuple within the specified range of indices&\n",
        "def slice_tuple(tpl, start, end):\n",
        "    return tpl[start:end]\n",
        "\n",
        "# Example usage\n",
        "tuple_input = (1, 2, 3, 4, 5, 6, 7)\n",
        "start_index = 2\n",
        "end_index = 5\n",
        "print(f\"Sliced tuple: {slice_tuple(tuple_input, start_index, end_index)}\")\n"
      ],
      "metadata": {
        "colab": {
          "base_uri": "https://localhost:8080/"
        },
        "id": "CKNQUeoFRRxV",
        "outputId": "b77ec9ce-6f23-4b39-9257-b7bcad4f1263"
      },
      "execution_count": null,
      "outputs": [
        {
          "output_type": "stream",
          "name": "stdout",
          "text": [
            "Sliced tuple: (3, 4, 5)\n"
          ]
        }
      ]
    },
    {
      "cell_type": "code",
      "source": [
        "#Write a code that prompts the user to input two sets of characters. Then, print the union of these two sets\n",
        "def union_of_sets():\n",
        "    set1 = set(input(\"Enter the first set of characters, separated by commas: \").split(','))\n",
        "    set2 = set(input(\"Enter the second set of characters, separated by commas: \").split(','))\n",
        "    union = set1 | set2\n",
        "    print(f\"Union of the sets: {union}\")\n",
        "\n",
        "# Example usage\n",
        "# union_of_sets()  # Uncomment to test\n"
      ],
      "metadata": {
        "id": "sCEIVIjhRR0G"
      },
      "execution_count": null,
      "outputs": []
    },
    {
      "cell_type": "code",
      "source": [
        "#Develop a code that takes a tuple of integers as input. The function should return the maximum and minimum values from the tuple using tuple unpacking\n",
        "def max_min_tuple(tpl):\n",
        "    return max(tpl), min(tpl)\n",
        "\n",
        "# Example usage\n",
        "tuple_input = (1, 3, 5, 7, 9)\n",
        "max_value, min_value = max_min_tuple(tuple_input)\n",
        "print(f\"Maximum: {max_value}, Minimum: {min_value}\")\n"
      ],
      "metadata": {
        "id": "KgxyAJqYRR3D"
      },
      "execution_count": null,
      "outputs": []
    },
    {
      "cell_type": "code",
      "source": [
        "#Create a code that defines two sets of integers. Then, print the union, intersection, and difference of these two sets\n",
        "def set_operations():\n",
        "    set1 = {1, 2, 3, 4}\n",
        "    set2 = {3, 4, 5, 6}\n",
        "    print(f\"Union: {set1 | set2}\")\n",
        "    print(f\"Intersection: {set1 & set2}\")\n",
        "    print(f\"Difference: {set1 - set2}\")\n",
        "\n",
        "# Example usage\n",
        "set_operations()\n"
      ],
      "metadata": {
        "id": "zaGtH20DRR6g"
      },
      "execution_count": null,
      "outputs": []
    },
    {
      "cell_type": "code",
      "source": [
        "#Write a code that takes a tuple and an element as input. The function should return the count of occurrences of the given element in the tuple&\n",
        "def count_element_in_tuple(tpl, element):\n",
        "    return tpl.count(element)\n",
        "\n",
        "# Example usage\n",
        "tuple_input = (1, 2, 2, 3, 3, 3)\n",
        "element = 3\n",
        "print(f\"Count of {element}: {count_element_in_tuple(tuple_input, element)}\")\n"
      ],
      "metadata": {
        "id": "ppQhXxQeTYUy"
      },
      "execution_count": null,
      "outputs": []
    },
    {
      "cell_type": "code",
      "source": [
        "#Develop a code that prompts the user to input two sets of strings. Then, print the symmetric difference of these two sets&\n",
        "def symmetric_difference_of_sets():\n",
        "    set1 = set(input(\"Enter the first set of strings, separated by commas: \").split(','))\n",
        "    set2 = set(input(\"Enter the second set of strings, separated by commas: \").split(','))\n",
        "    symmetric_difference = set1 ^ set2\n",
        "    print(f\"Symmetric difference: {symmetric_difference}\")\n",
        "\n",
        "# Example usage\n",
        "# symmetric_difference_of_sets()  # Uncomment to test\n"
      ],
      "metadata": {
        "id": "xwOO2cu7TYXo"
      },
      "execution_count": null,
      "outputs": []
    },
    {
      "cell_type": "code",
      "source": [
        "#Write a code that takes a list of words as input and returns a dictionary where the keys are unique words and the values are the frequencies of those words in the input list\n",
        "def word_frequency(words):\n",
        "    return {word: words.count(word) for word in set(words)}\n",
        "\n",
        "# Example usage\n",
        "words_list = [\"apple\", \"banana\", \"apple\", \"cherry\", \"banana\", \"cherry\", \"cherry\"]\n",
        "print(f\"Word frequencies: {word_frequency(words_list)}\")\n"
      ],
      "metadata": {
        "id": "4pvZ-ZesTYav"
      },
      "execution_count": null,
      "outputs": []
    },
    {
      "cell_type": "code",
      "source": [
        "#Write a code that takes two dictionaries as input and merges them into a single dictionary. If there are common keys, the values should be added together\n",
        "def merge_dictionaries(dict1, dict2):\n",
        "    merged = dict1.copy()\n",
        "    for key, value in dict2.items():\n",
        "        merged[key] = merged.get(key, 0) + value\n",
        "    return merged\n",
        "\n",
        "# Example usage\n",
        "dict1 = {'a': 1, 'b': 2}\n",
        "dict2 = {'b': 3, 'c': 4}\n",
        "print(f\"Merged dictionary: {merge_dictionaries(dict1, dict2)}\")\n",
        "\n"
      ],
      "metadata": {
        "id": "CSe6_wfETYdk"
      },
      "execution_count": null,
      "outputs": []
    },
    {
      "cell_type": "code",
      "source": [
        "#Write a code to access a value in a nested dictionary. The function should take the dictionary and a list of keys as input, and return the corresponding value. If any of the keys do not exist in the dictionary, the function should return None&\n",
        "def access_nested_dict(d, keys):\n",
        "    for key in keys:\n",
        "        if key in d:\n",
        "            d = d[key]\n",
        "        else:\n",
        "            return None\n",
        "    return d\n",
        "\n",
        "# Example usage\n",
        "nested_dict = {'a': {'b': {'c': 42}}}\n",
        "keys = ['a', 'b', 'c']\n",
        "print(f\"Accessed value: {access_nested_dict(nested_dict, keys)}\")\n",
        "\n"
      ],
      "metadata": {
        "id": "vSw5dGoDTYgb"
      },
      "execution_count": null,
      "outputs": []
    },
    {
      "cell_type": "code",
      "source": [
        "#Write a code that takes a dictionary as input and returns a sorted version of it based on the values. You can choose whether to sort in ascending or descending order&\n",
        "def sort_dict_by_values(d, ascending=True):\n",
        "    return dict(sorted(d.items(), key=lambda item: item[1], reverse=not ascending))\n",
        "\n",
        "# Example usage\n",
        "input_dict = {'a': 3, 'b': 1, 'c': 2}\n",
        "print(f\"Sorted dictionary: {sort_dict_by_values(input_dict, ascending=True)}\")\n"
      ],
      "metadata": {
        "id": "pPaNmQCFTYjb"
      },
      "execution_count": null,
      "outputs": []
    },
    {
      "cell_type": "code",
      "source": [
        "#Write a code that inverts a dictionary, swapping keys and values. Ensure that the inverted dictionary correctly handles cases where multiple keys have the same value by storing the keys as a list in the inverted dictionary.\n",
        "def invert_dictionary(d):\n",
        "    inverted = {}\n",
        "    for key, value in d.items():\n",
        "        inverted.setdefault(value, []).append(key)\n",
        "    return inverted\n",
        "\n",
        "# Example usage\n",
        "input_dict = {'a': 1, 'b': 2, 'c': 1}\n",
        "print(f\"Inverted dictionary: {invert_dictionary(input_dict)}\")\n"
      ],
      "metadata": {
        "id": "DQuNKQZMTYmK"
      },
      "execution_count": null,
      "outputs": []
    },
    {
      "cell_type": "code",
      "source": [
        "#"
      ],
      "metadata": {
        "id": "zygcz-ljTYpS"
      },
      "execution_count": null,
      "outputs": []
    },
    {
      "cell_type": "code",
      "source": [
        "#"
      ],
      "metadata": {
        "id": "wDrMd3jRTYsC"
      },
      "execution_count": null,
      "outputs": []
    },
    {
      "cell_type": "code",
      "source": [
        "#"
      ],
      "metadata": {
        "id": "hID4JGLBTYvB"
      },
      "execution_count": null,
      "outputs": []
    },
    {
      "cell_type": "code",
      "source": [
        "#"
      ],
      "metadata": {
        "id": "jTO6jH4wTYx2"
      },
      "execution_count": null,
      "outputs": []
    },
    {
      "cell_type": "code",
      "source": [
        "#"
      ],
      "metadata": {
        "id": "NRT1w7zOTY00"
      },
      "execution_count": null,
      "outputs": []
    },
    {
      "cell_type": "code",
      "source": [
        "#"
      ],
      "metadata": {
        "id": "cv3bJhz7TY4M"
      },
      "execution_count": null,
      "outputs": []
    }
  ]
}